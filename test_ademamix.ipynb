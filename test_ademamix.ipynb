{
 "cells": [
  {
   "cell_type": "code",
   "execution_count": 1,
   "id": "23491956-1927-4159-9e79-58deef4f8227",
   "metadata": {},
   "outputs": [],
   "source": [
    "import torch\n",
    "import torch.nn as nn\n",
    "import torch.optim as optim\n",
    "import torchvision\n",
    "import torchvision.transforms as transforms\n",
    "from torch.utils.data import DataLoader"
   ]
  },
  {
   "cell_type": "code",
   "execution_count": 2,
   "id": "23de0f13-770d-4956-9b45-1be6e8006b31",
   "metadata": {},
   "outputs": [
    {
     "name": "stdout",
     "output_type": "stream",
     "text": [
      "Downloading http://yann.lecun.com/exdb/mnist/train-images-idx3-ubyte.gz\n",
      "Failed to download (trying next):\n",
      "HTTP Error 403: Forbidden\n",
      "\n",
      "Downloading https://ossci-datasets.s3.amazonaws.com/mnist/train-images-idx3-ubyte.gz\n",
      "Downloading https://ossci-datasets.s3.amazonaws.com/mnist/train-images-idx3-ubyte.gz to ./data/MNIST/raw/train-images-idx3-ubyte.gz\n"
     ]
    },
    {
     "name": "stderr",
     "output_type": "stream",
     "text": [
      "100%|██████████| 9912422/9912422 [00:00<00:00, 139089672.39it/s]\n"
     ]
    },
    {
     "name": "stdout",
     "output_type": "stream",
     "text": [
      "Extracting ./data/MNIST/raw/train-images-idx3-ubyte.gz to ./data/MNIST/raw\n",
      "\n",
      "Downloading http://yann.lecun.com/exdb/mnist/train-labels-idx1-ubyte.gz\n",
      "Failed to download (trying next):\n",
      "HTTP Error 403: Forbidden\n",
      "\n",
      "Downloading https://ossci-datasets.s3.amazonaws.com/mnist/train-labels-idx1-ubyte.gz\n",
      "Downloading https://ossci-datasets.s3.amazonaws.com/mnist/train-labels-idx1-ubyte.gz to ./data/MNIST/raw/train-labels-idx1-ubyte.gz\n"
     ]
    },
    {
     "name": "stderr",
     "output_type": "stream",
     "text": [
      "100%|██████████| 28881/28881 [00:00<00:00, 22399351.67it/s]"
     ]
    },
    {
     "name": "stdout",
     "output_type": "stream",
     "text": [
      "Extracting ./data/MNIST/raw/train-labels-idx1-ubyte.gz to ./data/MNIST/raw\n",
      "\n",
      "Downloading http://yann.lecun.com/exdb/mnist/t10k-images-idx3-ubyte.gz\n",
      "Failed to download (trying next):\n",
      "HTTP Error 403: Forbidden\n",
      "\n",
      "Downloading https://ossci-datasets.s3.amazonaws.com/mnist/t10k-images-idx3-ubyte.gz\n",
      "Downloading https://ossci-datasets.s3.amazonaws.com/mnist/t10k-images-idx3-ubyte.gz to ./data/MNIST/raw/t10k-images-idx3-ubyte.gz\n"
     ]
    },
    {
     "name": "stderr",
     "output_type": "stream",
     "text": [
      "\n",
      "100%|██████████| 1648877/1648877 [00:00<00:00, 123262541.16it/s]\n"
     ]
    },
    {
     "name": "stdout",
     "output_type": "stream",
     "text": [
      "Extracting ./data/MNIST/raw/t10k-images-idx3-ubyte.gz to ./data/MNIST/raw\n",
      "\n",
      "Downloading http://yann.lecun.com/exdb/mnist/t10k-labels-idx1-ubyte.gz\n",
      "Failed to download (trying next):\n",
      "HTTP Error 403: Forbidden\n",
      "\n",
      "Downloading https://ossci-datasets.s3.amazonaws.com/mnist/t10k-labels-idx1-ubyte.gz\n",
      "Downloading https://ossci-datasets.s3.amazonaws.com/mnist/t10k-labels-idx1-ubyte.gz to ./data/MNIST/raw/t10k-labels-idx1-ubyte.gz\n"
     ]
    },
    {
     "name": "stderr",
     "output_type": "stream",
     "text": [
      "100%|██████████| 4542/4542 [00:00<00:00, 3303368.96it/s]\n"
     ]
    },
    {
     "name": "stdout",
     "output_type": "stream",
     "text": [
      "Extracting ./data/MNIST/raw/t10k-labels-idx1-ubyte.gz to ./data/MNIST/raw\n",
      "\n"
     ]
    }
   ],
   "source": [
    "# Load MNIST dataset\n",
    "transform = transforms.Compose([transforms.ToTensor(), transforms.Normalize((0.5,), (0.5,))])\n",
    "\n",
    "train_dataset = torchvision.datasets.MNIST(root='./data', train=True, transform=transform, download=True)\n",
    "test_dataset = torchvision.datasets.MNIST(root='./data', train=False, transform=transform, download=True)\n",
    "\n",
    "train_loader = DataLoader(dataset=train_dataset, batch_size=64, shuffle=True)\n",
    "test_loader = DataLoader(dataset=test_dataset, batch_size=64, shuffle=False)"
   ]
  },
  {
   "cell_type": "code",
   "execution_count": 5,
   "id": "aab54bfb-e27c-4626-b1d9-3dc133338238",
   "metadata": {},
   "outputs": [],
   "source": [
    "import math\n",
    "import torch\n",
    "from torch.optim import Optimizer\n",
    "\n",
    "class AdEMAMix(Optimizer):\n",
    "    def __init__(self, params, lr=1e-3, betas=(0.9, 0.999, 0.9999), alpha=5.0, eps=1e-8, weight_decay=0.0, T_alpha=0, T_beta3=0):\n",
    "        defaults = dict(lr=lr, betas=betas, eps=eps, weight_decay=weight_decay, alpha=alpha, T_alpha=T_alpha, T_beta3=T_beta3)\n",
    "        super(AdEMAMix, self).__init__(params, defaults)\n",
    "\n",
    "    @torch.no_grad()\n",
    "    def step(self, closure=None):\n",
    "        loss = None\n",
    "        if closure is not None:\n",
    "            loss = closure()\n",
    "\n",
    "        for group in self.param_groups:\n",
    "            for p in group['params']:\n",
    "                if p.grad is None:\n",
    "                    continue\n",
    "                grad = p.grad.data\n",
    "\n",
    "                state = self.state[p]\n",
    "                # State initialization\n",
    "                if len(state) == 0:\n",
    "                    state['step'] = 0\n",
    "                    state['m1'] = torch.zeros_like(p.data)  # Fast EMA\n",
    "                    state['m2'] = torch.zeros_like(p.data)  # Slow EMA\n",
    "                    state['v'] = torch.zeros_like(p.data)   # Second moment (like ADAM)\n",
    "\n",
    "                m1, m2, v = state['m1'], state['m2'], state['v']\n",
    "                beta1, beta2, beta3_final = group['betas']\n",
    "                eps, alpha_final = group['eps'], group['alpha']\n",
    "                lr, weight_decay = group['lr'], group['weight_decay']\n",
    "                T_alpha, T_beta3 = group['T_alpha'], group['T_beta3']\n",
    "\n",
    "                state['step'] += 1\n",
    "                bias_correction1 = 1 - beta1 ** state['step']\n",
    "                bias_correction2 = 1 - beta2 ** state['step']\n",
    "\n",
    "                # Schedulers for alpha and beta3\n",
    "                alpha = alpha_scheduler(state['step'], alpha_final, T_alpha)\n",
    "                beta3 = beta3_scheduler(state['step'], beta1, beta3_final, T_beta3)\n",
    "\n",
    "                # Update fast EMA\n",
    "                m1.mul_(beta1).add_(1 - beta1, grad)\n",
    "                \n",
    "                # Update slow EMA\n",
    "                m2.mul_(beta3).add_(1 - beta3, grad)\n",
    "\n",
    "                # Update second moment estimate (similar to ADAM)\n",
    "                v.mul_(beta2).addcmul_(1 - beta2, grad, grad)\n",
    "\n",
    "                # Compute bias-corrected first moment estimate\n",
    "                m1_hat = m1 / bias_correction1\n",
    "\n",
    "                # Compute bias-corrected second moment estimate\n",
    "                v_hat = v / bias_correction2\n",
    "\n",
    "                # Parameter update step\n",
    "                denom = (v_hat.sqrt() + eps)\n",
    "                update = (m1_hat + alpha * m2) / denom\n",
    "\n",
    "                if weight_decay != 0:\n",
    "                    update.add_(p.data, alpha=weight_decay)\n",
    "\n",
    "                p.data.add_(-lr * update)\n",
    "\n",
    "        return loss\n",
    "\n",
    "# Schedulers for alpha and beta3 based on training steps\n",
    "def alpha_scheduler(step, alpha_final, T_alpha):\n",
    "    if T_alpha == 0:\n",
    "        return alpha_final\n",
    "    return min(step / T_alpha, 1.0) * alpha_final\n",
    "\n",
    "def beta3_scheduler(step, beta_start, beta3_final, T_beta3):\n",
    "    if T_beta3 == 0:\n",
    "        return beta3_final\n",
    "    return beta_start + (beta3_final - beta_start) * min(step / T_beta3, 1.0)\n"
   ]
  },
  {
   "cell_type": "code",
   "execution_count": 6,
   "id": "0ded6c3e-acd7-4876-bc8e-80e7e2753c08",
   "metadata": {},
   "outputs": [
    {
     "name": "stdout",
     "output_type": "stream",
     "text": [
      "Training with AdEMAMix Optimizer\n"
     ]
    },
    {
     "name": "stderr",
     "output_type": "stream",
     "text": [
      "/tmp/ipykernel_3498/3986446770.py:45: UserWarning: This overload of add_ is deprecated:\n",
      "\tadd_(Number alpha, Tensor other)\n",
      "Consider using one of the following signatures instead:\n",
      "\tadd_(Tensor other, *, Number alpha) (Triggered internally at ../torch/csrc/utils/python_arg_parser.cpp:1630.)\n",
      "  m1.mul_(beta1).add_(1 - beta1, grad)\n"
     ]
    },
    {
     "name": "stdout",
     "output_type": "stream",
     "text": [
      "Epoch [1/5], Loss: 0.1489\n",
      "Epoch [2/5], Loss: 0.0455\n",
      "Epoch [3/5], Loss: 0.0272\n",
      "Epoch [4/5], Loss: 0.0207\n",
      "Epoch [5/5], Loss: 0.0155\n",
      "Test Accuracy: 98.99%\n",
      "\n",
      "Training with Adam Optimizer\n",
      "Epoch [1/5], Loss: 0.1634\n",
      "Epoch [2/5], Loss: 0.0552\n",
      "Epoch [3/5], Loss: 0.0369\n",
      "Epoch [4/5], Loss: 0.0276\n",
      "Epoch [5/5], Loss: 0.0227\n",
      "Test Accuracy: 98.94%\n"
     ]
    }
   ],
   "source": [
    "# Define a CNN model\n",
    "class CNNModel(nn.Module):\n",
    "    def __init__(self):\n",
    "        super(CNNModel, self).__init__()\n",
    "        self.conv1 = nn.Conv2d(1, 32, kernel_size=3)\n",
    "        self.conv2 = nn.Conv2d(32, 64, kernel_size=3)\n",
    "        self.fc1 = nn.Linear(64 * 12 * 12, 128)\n",
    "        self.fc2 = nn.Linear(128, 10)\n",
    "        self.relu = nn.ReLU()\n",
    "        self.maxpool = nn.MaxPool2d(kernel_size=2)\n",
    "        self.dropout = nn.Dropout(0.25)\n",
    "    \n",
    "    def forward(self, x):\n",
    "        x = self.relu(self.conv1(x))\n",
    "        x = self.maxpool(self.relu(self.conv2(x)))\n",
    "        x = x.view(-1, 64 * 12 * 12)\n",
    "        x = self.relu(self.fc1(x))\n",
    "        x = self.dropout(x)\n",
    "        x = self.fc2(x)\n",
    "        return x\n",
    "\n",
    "# Instantiate the model\n",
    "model = CNNModel()\n",
    "\n",
    "# Loss function\n",
    "criterion = nn.CrossEntropyLoss()\n",
    "\n",
    "# Using AdEMAMix optimizer\n",
    "optimizer_ademamix = AdEMAMix(model.parameters(), lr=0.001, betas=(0.9, 0.999, 0.9999), alpha=5.0, eps=1e-8, T_alpha=0, T_beta3=0)\n",
    "\n",
    "# Training function\n",
    "def train_model(model, optimizer, criterion, train_loader, epochs=5):\n",
    "    model.train()\n",
    "    for epoch in range(epochs):\n",
    "        running_loss = 0.0\n",
    "        for i, (inputs, labels) in enumerate(train_loader):\n",
    "            optimizer.zero_grad()\n",
    "            outputs = model(inputs)\n",
    "            loss = criterion(outputs, labels)\n",
    "            loss.backward()\n",
    "            optimizer.step()\n",
    "\n",
    "            running_loss += loss.item()\n",
    "        print(f'Epoch [{epoch+1}/{epochs}], Loss: {running_loss/len(train_loader):.4f}')\n",
    "\n",
    "# Testing function\n",
    "def test_model(model, test_loader):\n",
    "    model.eval()\n",
    "    correct = 0\n",
    "    total = 0\n",
    "    with torch.no_grad():\n",
    "        for inputs, labels in test_loader:\n",
    "            outputs = model(inputs)\n",
    "            _, predicted = torch.max(outputs.data, 1)\n",
    "            total += labels.size(0)\n",
    "            correct += (predicted == labels).sum().item()\n",
    "\n",
    "    accuracy = 100 * correct / total\n",
    "    print(f'Test Accuracy: {accuracy:.2f}%')\n",
    "\n",
    "# Train and test using AdEMAMix\n",
    "print(\"Training with AdEMAMix Optimizer\")\n",
    "train_model(model, optimizer_ademamix, criterion, train_loader, epochs=5)\n",
    "test_model(model, test_loader)\n",
    "\n",
    "# Now, switch to ADAM for comparison\n",
    "model_adam = CNNModel()\n",
    "optimizer_adam = optim.Adam(model_adam.parameters(), lr=0.001)\n",
    "\n",
    "print(\"\\nTraining with Adam Optimizer\")\n",
    "train_model(model_adam, optimizer_adam, criterion, train_loader, epochs=5)\n",
    "test_model(model_adam, test_loader)"
   ]
  },
  {
   "cell_type": "code",
   "execution_count": null,
   "id": "18597629-bd55-4262-98ad-4afd13c4a187",
   "metadata": {},
   "outputs": [],
   "source": []
  }
 ],
 "metadata": {
  "kernelspec": {
   "display_name": "Python 3",
   "language": "python",
   "name": "python3"
  },
  "language_info": {
   "codemirror_mode": {
    "name": "ipython",
    "version": 3
   },
   "file_extension": ".py",
   "mimetype": "text/x-python",
   "name": "python",
   "nbconvert_exporter": "python",
   "pygments_lexer": "ipython3",
   "version": "3.10.10"
  }
 },
 "nbformat": 4,
 "nbformat_minor": 5
}
